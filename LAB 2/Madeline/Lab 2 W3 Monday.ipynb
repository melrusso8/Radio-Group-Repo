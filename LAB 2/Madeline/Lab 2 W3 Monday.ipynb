{
 "cells": [
  {
   "cell_type": "markdown",
   "metadata": {},
   "source": [
    "# Lab 2 Presentation 1"
   ]
  },
  {
   "cell_type": "code",
   "execution_count": 1,
   "metadata": {},
   "outputs": [],
   "source": [
    "import ugradio\n",
    "import numpy as np\n",
    "\n",
    "import ugradio.pico as pico\n",
    "import ugradio.dft as dft\n",
    "import ugradio.doppler as doppler\n",
    "import ugradio.nch as nch\n",
    "import ugradio.timing as timing\n",
    "\n",
    "import matplotlib.pyplot as plt\n",
    "from matplotlib.animation import FuncAnimation\n",
    "from ipywidgets import interact, FloatSlider, Layout\n",
    "\n",
    "import astropy\n",
    "import unittest"
   ]
  },
  {
   "cell_type": "markdown",
   "metadata": {},
   "source": [
    "## Jen : Gather Data"
   ]
  },
  {
   "cell_type": "code",
   "execution_count": 2,
   "metadata": {},
   "outputs": [
    {
     "ename": "FileNotFoundError",
     "evalue": "[Errno 2] No such file or directory: '../Data/50mV cold data.npz'",
     "output_type": "error",
     "traceback": [
      "\u001b[0;31m---------------------------------------------------------------------------\u001b[0m",
      "\u001b[0;31mFileNotFoundError\u001b[0m                         Traceback (most recent call last)",
      "\u001b[0;32m<ipython-input-2-65ccfb65f97f>\u001b[0m in \u001b[0;36m<module>\u001b[0;34m\u001b[0m\n\u001b[1;32m      1\u001b[0m \u001b[0;31m#cold_data_1 = np.load('../Data/big_horn_data_1000.npy.zip')\u001b[0m\u001b[0;34m\u001b[0m\u001b[0;34m\u001b[0m\u001b[0;34m\u001b[0m\u001b[0m\n\u001b[1;32m      2\u001b[0m \u001b[0;31m#cal_data_1 = np.load('../Data/big_horn_data_1000.npz.zip')\u001b[0m\u001b[0;34m\u001b[0m\u001b[0;34m\u001b[0m\u001b[0;34m\u001b[0m\u001b[0m\n\u001b[0;32m----> 3\u001b[0;31m \u001b[0mcold_data_2\u001b[0m \u001b[0;34m=\u001b[0m \u001b[0mnp\u001b[0m\u001b[0;34m.\u001b[0m\u001b[0mload\u001b[0m\u001b[0;34m(\u001b[0m\u001b[0;34m'../Data/50mV cold data.npz'\u001b[0m\u001b[0;34m)\u001b[0m\u001b[0;34m\u001b[0m\u001b[0;34m\u001b[0m\u001b[0m\n\u001b[0m\u001b[1;32m      4\u001b[0m \u001b[0mcal_data_2\u001b[0m \u001b[0;34m=\u001b[0m \u001b[0mnp\u001b[0m\u001b[0;34m.\u001b[0m\u001b[0mload\u001b[0m\u001b[0;34m(\u001b[0m\u001b[0;34m'../Data/50mV data with rain.npz'\u001b[0m\u001b[0;34m)\u001b[0m\u001b[0;34m\u001b[0m\u001b[0;34m\u001b[0m\u001b[0m\n",
      "\u001b[0;32m/usr/local/lib/python3.6/dist-packages/numpy/lib/npyio.py\u001b[0m in \u001b[0;36mload\u001b[0;34m(file, mmap_mode, allow_pickle, fix_imports, encoding)\u001b[0m\n\u001b[1;32m    426\u001b[0m         \u001b[0mown_fid\u001b[0m \u001b[0;34m=\u001b[0m \u001b[0;32mFalse\u001b[0m\u001b[0;34m\u001b[0m\u001b[0;34m\u001b[0m\u001b[0m\n\u001b[1;32m    427\u001b[0m     \u001b[0;32melse\u001b[0m\u001b[0;34m:\u001b[0m\u001b[0;34m\u001b[0m\u001b[0;34m\u001b[0m\u001b[0m\n\u001b[0;32m--> 428\u001b[0;31m         \u001b[0mfid\u001b[0m \u001b[0;34m=\u001b[0m \u001b[0mopen\u001b[0m\u001b[0;34m(\u001b[0m\u001b[0mos_fspath\u001b[0m\u001b[0;34m(\u001b[0m\u001b[0mfile\u001b[0m\u001b[0;34m)\u001b[0m\u001b[0;34m,\u001b[0m \u001b[0;34m\"rb\"\u001b[0m\u001b[0;34m)\u001b[0m\u001b[0;34m\u001b[0m\u001b[0;34m\u001b[0m\u001b[0m\n\u001b[0m\u001b[1;32m    429\u001b[0m         \u001b[0mown_fid\u001b[0m \u001b[0;34m=\u001b[0m \u001b[0;32mTrue\u001b[0m\u001b[0;34m\u001b[0m\u001b[0;34m\u001b[0m\u001b[0m\n\u001b[1;32m    430\u001b[0m \u001b[0;34m\u001b[0m\u001b[0m\n",
      "\u001b[0;31mFileNotFoundError\u001b[0m: [Errno 2] No such file or directory: '../Data/50mV cold data.npz'"
     ]
    }
   ],
   "source": [
    "#cold_data_1 = np.load('../Data/big_horn_data_1000.npy.zip')\n",
    "#cal_data_1 = np.load('../Data/big_horn_data_1000.npz.zip')\n",
    "cold_data_2 = np.load('../Data/50mV cold data.npz')\n",
    "cal_data_2 = np.load('../Data/50mV data with rain.npz')"
   ]
  },
  {
   "cell_type": "markdown",
   "metadata": {},
   "source": [
    "## Combine Real and Complex Signal Components"
   ]
  },
  {
   "cell_type": "code",
   "execution_count": null,
   "metadata": {},
   "outputs": [],
   "source": [
    "#cold_data = cold_data_1['big_horn_data_1000'][0] - (cold_data_1[\"big_horn_data_1000\"][1]*5/4*1j)\n",
    "#cal_data = cal_data_1['big_horn_data_1000'][0] - (cal_data_1[\"big_horn_data_1000\"][1]*5/4*1j)\n",
    "cold_data = cold_data_2['arr_0'][0] - (cold_data_2[\"arr_0\"][1]*5/4*1j) #SKY\n",
    "cal_data = cal_data_2['arr_0'][0] - (cal_data_2[\"arr_0\"][1]*5/4*1j) #RAIN \n",
    "#cold_data = galactic_data[0] - (galactic_data[1]*5/4*1j)"
   ]
  },
  {
   "cell_type": "markdown",
   "metadata": {},
   "source": [
    "## Resize Blocks"
   ]
  },
  {
   "cell_type": "code",
   "execution_count": null,
   "metadata": {},
   "outputs": [],
   "source": [
    "# resize blocks\n",
    "cold_data.shape = (-1, 2000)\n",
    "cal_data.shape = (-1, 2000)"
   ]
  },
  {
   "cell_type": "code",
   "execution_count": null,
   "metadata": {},
   "outputs": [],
   "source": [
    "cal_data.shape"
   ]
  },
  {
   "cell_type": "code",
   "execution_count": null,
   "metadata": {},
   "outputs": [],
   "source": [
    "cold_data.shape"
   ]
  },
  {
   "cell_type": "markdown",
   "metadata": {},
   "source": [
    "## Plot Raw Horn Data"
   ]
  },
  {
   "cell_type": "code",
   "execution_count": null,
   "metadata": {},
   "outputs": [],
   "source": [
    "plt.figure(figsize=(15, 8))\n",
    "plt.plot(cold_data[0]/2**16, \"mediumpurple\", label=\"Cold\")\n",
    "plt.plot(cal_data[0]/2**16, \"dodgerblue\", label=\"Blackbody\")\n",
    "plt.xlabel(\"Samples\", fontsize=15)\n",
    "plt.ylabel(\"Voltage (V)\", fontsize=15)\n",
    "plt.title(\"Cold and Blackbody Horn Data\", fontsize=25)\n",
    "plt.legend(fontsize=15)"
   ]
  },
  {
   "cell_type": "markdown",
   "metadata": {},
   "source": [
    "## Olivia : Calculate Average Power Spectra of s_cold "
   ]
  },
  {
   "cell_type": "code",
   "execution_count": null,
   "metadata": {},
   "outputs": [],
   "source": [
    "# COLD DATA, SKY DATA, S_OFF BECAUSE WE DID NOT OBSERVE HYDROGEN IN THIS CAPTURE\n",
    "freq = np.fft.fftfreq(cold_data.shape[1], 1/62.5e6)\n",
    "freq = np.fft.fftshift(freq)/1e6\n",
    "\n",
    "blocks = 8000\n",
    "avg_power_array = []\n",
    "for n in range (0, blocks):\n",
    "    data_new = cold_data[n]\n",
    "    ft = np.fft.fft(data_new)\n",
    "    ft = np.fft.fftshift(ft)\n",
    "    power = abs(ft)**2\n",
    "    avg_power_array.append(power)\n",
    "    \n",
    "avg_power_array = np.mean(avg_power_array, axis = 0)\n",
    "s_cold = avg_power_array"
   ]
  },
  {
   "cell_type": "markdown",
   "metadata": {},
   "source": [
    "## Plot Average Power Spectra of s_cold"
   ]
  },
  {
   "cell_type": "code",
   "execution_count": null,
   "metadata": {},
   "outputs": [],
   "source": [
    "plt.figure(figsize=(15,8))\n",
    "plt.plot(freq + 1230 + 190, avg_power_array, \"mediumpurple\", linewidth=2)\n",
    "plt.yscale(\"log\")\n",
    "plt.xlabel(\"Frequency (MHz)\", fontsize=15)\n",
    "plt.ylabel(\"Power\", fontsize=15)\n",
    "plt.title(\"Average Power Spectrum of Cold Data\", fontsize=25)\n",
    "plt.legend(fontsize=15)\n",
    "\n",
    "#plt.xlim(-2, 2)\n",
    "#plt.vlines(1420.4058, ymin=10e8, ymax=10e11, linewidth=.5)"
   ]
  },
  {
   "cell_type": "markdown",
   "metadata": {},
   "source": [
    "## Calculate Average Power Spectra of s_cal"
   ]
  },
  {
   "cell_type": "code",
   "execution_count": null,
   "metadata": {},
   "outputs": [],
   "source": [
    "# CAL DATA, RAIN DATA, WHICH IS S_ON BECAUSE WE DO SEE THE HYDROGEN LINE\n",
    "cal_freq = np.fft.fftfreq(cal_data.shape[1], 1/62.5e6)\n",
    "cal_freq = np.fft.fftshift(cal_freq)/1e6\n",
    "\n",
    "blocks = 800\n",
    "avg_rain_power_array = []\n",
    "for n in range (0, blocks):\n",
    "    data_new = cal_data[n]\n",
    "    ft = np.fft.fft(data_new)\n",
    "    ft = np.fft.fftshift(ft)\n",
    "    power = abs(ft)**2\n",
    "    avg_rain_power_array.append(power)\n",
    "    \n",
    "avg_rain_power_array = np.mean(avg_rain_power_array, axis=0)\n",
    "s_cal = avg_rain_power_array"
   ]
  },
  {
   "cell_type": "markdown",
   "metadata": {},
   "source": [
    "## Plot Average Power Spectra of s_cal"
   ]
  },
  {
   "cell_type": "code",
   "execution_count": null,
   "metadata": {},
   "outputs": [],
   "source": [
    "#%matplotlib notebook\n",
    "plt.figure(figsize=(15,8))\n",
    "plt.plot(cal_freq + 1230 + 190, avg_rain_power_array, \"dodgerblue\", linewidth=2)\n",
    "plt.yscale(\"log\")\n",
    "plt.xlabel(\"Frequency (MHz)\", fontsize=15)\n",
    "plt.ylabel(\"Power\", fontsize=15)\n",
    "plt.title(\"Average Power Spectrum of Blackbody Data\", fontsize=25)\n",
    "plt.legend(fontsize=15)\n",
    "#plt.xlim(-1, 1)\n",
    "#plt.vlines(1420.4058, ymin=10e8, ymax=10e11, linewidth=.5)"
   ]
  },
  {
   "cell_type": "code",
   "execution_count": null,
   "metadata": {},
   "outputs": [],
   "source": [
    "#%matplotlib notebook\n",
    "\n",
    "plt.figure(figsize=(15,8))\n",
    "plt.plot(freq + 1230 + 190, avg_power_array, \"mediumpurple\", linewidth=3, label=\"cold\")\n",
    "plt.plot(cal_freq + 1230 + 190, avg_rain_power_array, \"dodgerblue\", linewidth=2, label=\"blackbody\")\n",
    "plt.yscale(\"log\")\n",
    "plt.xlabel(\"Frequency (MHz)\", fontsize=15)\n",
    "plt.ylabel(\"Power\", fontsize=15)\n",
    "plt.title(\"Overlapping Average Power Spectra of Calibration Data\", fontsize=25)\n",
    "plt.legend(fontsize=15)\n",
    "#plt.xlim(-1, 1)\n",
    "#plt.vlines(1420.4058, ymin=10e8, ymax=10e11, linewidth=.5)"
   ]
  },
  {
   "cell_type": "markdown",
   "metadata": {},
   "source": [
    "# Madeline : Estimate Optimal Time Range for Galactic Plane Observation"
   ]
  },
  {
   "cell_type": "code",
   "execution_count": null,
   "metadata": {},
   "outputs": [],
   "source": [
    "from astropy.coordinates import EarthLocation, SkyCoord"
   ]
  },
  {
   "cell_type": "code",
   "execution_count": null,
   "metadata": {},
   "outputs": [],
   "source": [
    "# assumes we are at campbell\n",
    "ugradio.timing.lst()"
   ]
  },
  {
   "cell_type": "code",
   "execution_count": null,
   "metadata": {},
   "outputs": [],
   "source": [
    "# ideal HI viewing time is at LST = 19 - 6\n",
    "galactic_data_source = np.load('../Data/Galaxy Data 1000.npz')"
   ]
  },
  {
   "cell_type": "markdown",
   "metadata": {},
   "source": [
    "### Combine complex and real components and resize blocks"
   ]
  },
  {
   "cell_type": "code",
   "execution_count": null,
   "metadata": {},
   "outputs": [],
   "source": [
    "galactic_data = galactic_data_source['arr_0'][0] - (galactic_data_source[\"arr_0\"][1]*5/4*1j)\n",
    "\n",
    "# resize blocks\n",
    "galactic_data.shape = (-1, 2000)\n",
    "galactic_data.shape"
   ]
  },
  {
   "cell_type": "markdown",
   "metadata": {},
   "source": [
    "### Calculate average power spectrum "
   ]
  },
  {
   "cell_type": "code",
   "execution_count": null,
   "metadata": {},
   "outputs": [],
   "source": [
    "# GALACTIC DATA, S_ON BECAUSE WE ARE OBSERVING HYDROGEN LINE\n",
    "galactic_freq = np.fft.fftfreq(galactic_data.shape[1], 1/62.5e6)\n",
    "galactic_freq = np.fft.fftshift(galactic_freq)/1e6\n",
    "\n",
    "blocks = 8000\n",
    "avg_galactic_power_array = []\n",
    "for n in range (0, blocks):\n",
    "    data_new = galactic_data[n]\n",
    "    ft = np.fft.fft(data_new)\n",
    "    ft = np.fft.fftshift(ft)\n",
    "    power = abs(ft)**2\n",
    "    avg_galactic_power_array.append(power)\n",
    "    \n",
    "avg_galactic_power_array = np.mean(avg_galactic_power_array, axis = 0)\n",
    "s_on = avg_galactic_power_array"
   ]
  },
  {
   "cell_type": "markdown",
   "metadata": {},
   "source": [
    "### Plot average power spectrum"
   ]
  },
  {
   "cell_type": "code",
   "execution_count": null,
   "metadata": {},
   "outputs": [],
   "source": [
    "#%matplotlib notebook\n",
    "plt.figure(figsize=(15,8))\n",
    "plt.plot(freq + 1230 + 190, avg_galactic_power_array, \"purple\", linewidth=2)\n",
    "plt.yscale(\"log\")\n",
    "plt.xlabel(\"Frequency (MHz)\", fontsize=15)\n",
    "plt.ylabel(\"Power\", fontsize=15)\n",
    "plt.title(\"Average Power Spectrum of Galactic Data\", fontsize=25)\n",
    "\n",
    "#plt.xlim(-2, 2)\n",
    "plt.vlines(1420.4058, ymin=0, ymax=10e11, linestyle=\"dashed\", linewidth=.5)"
   ]
  },
  {
   "cell_type": "markdown",
   "metadata": {},
   "source": [
    "# Mel : Calculate Gain"
   ]
  },
  {
   "cell_type": "markdown",
   "metadata": {},
   "source": [
    "### find T_sys"
   ]
  },
  {
   "cell_type": "code",
   "execution_count": null,
   "metadata": {},
   "outputs": [],
   "source": [
    "# temperature\n",
    "T_rx = 300 #kelvin\n",
    "T_sky = 10 #between 10-100K\n",
    "T_sys = T_rx - T_sky\n",
    "T_sys"
   ]
  },
  {
   "cell_type": "markdown",
   "metadata": {},
   "source": [
    "### filter out spikes "
   ]
  },
  {
   "cell_type": "code",
   "execution_count": null,
   "metadata": {},
   "outputs": [],
   "source": [
    "# shape\n",
    "g_freq = freq + 1230 + 190\n",
    "s_line = s_on / s_cold #s_off=s_cold #GALACTIC POWER SPECTRA / SKY POWER SPECTRA #probably wrong. ratio of on observation (hydrogen there), over off observation (no H)\n",
    "\n",
    "filtered_s_cold = np.array([s for s in s_cold if not (g_freq[list(s_cold).index(s)]<1390 or g_freq[list(s_cold).index(s)]>1451 or (g_freq[list(s_cold).index(s)]< 1421 and g_freq[list(s_cold).index(s)]>1419))])\n",
    "filtered_s_cal = np.array([s for s in s_cal if not (g_freq[list(s_cal).index(s)]<1390 or g_freq[list(s_cal).index(s)]>1451 or (g_freq[list(s_cal).index(s)]< 1421 and g_freq[list(s_cal).index(s)]>1419))])\n",
    "print(len(filtered_s_cold), len(filtered_s_cal))\n"
   ]
  },
  {
   "cell_type": "markdown",
   "metadata": {},
   "source": [
    "## Plot Filtered S_cold and S_cal"
   ]
  },
  {
   "cell_type": "code",
   "execution_count": null,
   "metadata": {},
   "outputs": [],
   "source": [
    "filtered_freq = np.fft.fftfreq(filtered_s_cold.shape[0], 1/62.5e6)\n",
    "filtered_freq = np.fft.fftshift(filtered_freq)/1e6\n",
    "\n",
    "#%matplotlib notebook\n",
    "plt.figure(figsize=(15,8))\n",
    "plt.plot(filtered_freq + 1230 + 190, filtered_s_cold, \"purple\", linewidth=2, label=\"s_on\")\n",
    "plt.plot(filtered_freq + 1230 + 190, filtered_s_cal, \"blue\", linewidth=2, label=\"s_off\")\n",
    "#plt.plot(filtered_freq + 1230 + 190, filtered_s_on, \"blue\", linewidth=2, label=\"s_off\")\n",
    "plt.yscale(\"log\")\n",
    "plt.xlabel(\"Frequency (MHz)\", fontsize=15)\n",
    "plt.ylabel(\"Power\", fontsize=15)\n",
    "plt.title(\"Power Spectrum of Filtered S_on and S_off\", fontsize=25)\n",
    "plt.legend()\n",
    "\n",
    "#plt.xlim(-2, 2)\n",
    "#plt.vlines(1420.4058, ymin=0, ymax=10e11, linestyle=\"dashed\", linewidth=.5)"
   ]
  },
  {
   "cell_type": "markdown",
   "metadata": {},
   "source": [
    "### calculate G and T_line"
   ]
  },
  {
   "cell_type": "code",
   "execution_count": null,
   "metadata": {},
   "outputs": [],
   "source": [
    "G = T_sys/(np.sum(filtered_s_cal - filtered_s_cold)) * np.sum(filtered_s_cold)\n",
    "T_line = s_line * G #power spectra in temperature units "
   ]
  },
  {
   "cell_type": "code",
   "execution_count": null,
   "metadata": {},
   "outputs": [],
   "source": [
    "print(\"Gain G = \" + str(G))"
   ]
  },
  {
   "cell_type": "code",
   "execution_count": null,
   "metadata": {},
   "outputs": [],
   "source": [
    "plt.figure(figsize=(15,8))\n",
    "plt.plot(g_freq, s_on, \"r\", label=\"s_on\")\n",
    "plt.plot(g_freq, s_cold, label=\"s_cold\")\n",
    "plt.plot(g_freq, T_line)\n",
    "plt.yscale(\"log\")"
   ]
  },
  {
   "cell_type": "code",
   "execution_count": null,
   "metadata": {},
   "outputs": [],
   "source": []
  }
 ],
 "metadata": {
  "kernelspec": {
   "display_name": "Python 3",
   "language": "python",
   "name": "python3"
  },
  "language_info": {
   "codemirror_mode": {
    "name": "ipython",
    "version": 3
   },
   "file_extension": ".py",
   "mimetype": "text/x-python",
   "name": "python",
   "nbconvert_exporter": "python",
   "pygments_lexer": "ipython3",
   "version": "3.6.12"
  }
 },
 "nbformat": 4,
 "nbformat_minor": 4
}
