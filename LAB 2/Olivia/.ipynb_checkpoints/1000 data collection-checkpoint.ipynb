{
 "cells": [
  {
   "cell_type": "code",
   "execution_count": 1,
   "metadata": {},
   "outputs": [],
   "source": [
    "import matplotlib.pyplot as plt\n",
    "import numpy as np\n",
    "import ugradio"
   ]
  },
  {
   "cell_type": "code",
   "execution_count": 2,
   "metadata": {},
   "outputs": [],
   "source": [
    "local_now = ugradio.timing.local_time() # current local time as a string\n",
    "ut_now = ugradio.timing.utc() # current UTC as a string\n",
    "ut_now = ugradio.timing.unix_time() # seconds since 1 January 1970\n",
    "julian_now = ugradio.timing.julian_date() # current julian day (which \\\n",
    "#contains the current time, too--it’s not just an integer \\number.\n",
    "lst_now = ugradio.timing.lst() # current LST at NCH\n",
    "lst_julian = ugradio.timing.lst() # LST for the specified Julian day\n",
    "ut_julian = ugradio.timing.unix_time() # seconds since 1/1/1970 for given JD\n",
    "julian_ut = ugradio.timing.julian_date() # julian day for given unix time"
   ]
  },
  {
   "cell_type": "code",
   "execution_count": 3,
   "metadata": {},
   "outputs": [],
   "source": [
    "#data_1000 = ugradio.pico.capture_data('50mV',divisor=1, dual_mode=True, nblocks=1000)"
   ]
  },
  {
   "cell_type": "code",
   "execution_count": 6,
   "metadata": {},
   "outputs": [],
   "source": [
    "#np.savez('data_1000.npz',data_1000)"
   ]
  },
  {
   "cell_type": "code",
   "execution_count": 7,
   "metadata": {},
   "outputs": [],
   "source": [
    "data_1000 = np.load('data_1000.npz')['arr_0']"
   ]
  },
  {
   "cell_type": "code",
   "execution_count": null,
   "metadata": {},
   "outputs": [],
   "source": []
  }
 ],
 "metadata": {
  "kernelspec": {
   "display_name": "Python 3",
   "language": "python",
   "name": "python3"
  },
  "language_info": {
   "codemirror_mode": {
    "name": "ipython",
    "version": 3
   },
   "file_extension": ".py",
   "mimetype": "text/x-python",
   "name": "python",
   "nbconvert_exporter": "python",
   "pygments_lexer": "ipython3",
   "version": "3.6.12"
  }
 },
 "nbformat": 4,
 "nbformat_minor": 4
}
