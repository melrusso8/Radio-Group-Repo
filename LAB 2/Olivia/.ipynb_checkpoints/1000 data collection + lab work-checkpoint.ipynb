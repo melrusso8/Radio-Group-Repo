{
 "cells": [
  {
   "cell_type": "code",
   "execution_count": 2,
   "metadata": {},
   "outputs": [],
   "source": [
    "import matplotlib.pyplot as plt\n",
    "import numpy as np\n",
    "import ugradio"
   ]
  },
  {
   "cell_type": "code",
   "execution_count": 5,
   "metadata": {},
   "outputs": [],
   "source": [
    "local_now = ugradio.timing.local_time() # current local time as a string\n",
    "ut_now = ugradio.timing.utc() # current UTC as a string\n",
    "ut_now = ugradio.timing.unix_time() # seconds since 1 January 1970\n",
    "julian_now = ugradio.timing.julian_date() # current julian day (which \\\n",
    "#contains the current time, too--it’s not just an integer \\number.\n",
    "lst_now = ugradio.timing.lst() # current LST at NCH\n",
    "lst_julian = ugradio.timing.lst() # LST for the specified Julian day\n",
    "ut_julian = ugradio.timing.unix_time() # seconds since 1/1/1970 for given JD (jd)\n",
    "julian_ut = ugradio.timing.julian_date() # julian day for given unix time (ut)"
   ]
  },
  {
   "cell_type": "code",
   "execution_count": 4,
   "metadata": {},
   "outputs": [],
   "source": [
    "#local_now = ugradio.timing.local_time()\n",
    "#ut_now = ugradio.timing.unix_time()\n",
    "#julian_now = ugradio.timing.julian_date()\n",
    "#lst_julian = ugradio.timing.lst()\n",
    "#cold_data_ = ugradio.pico.capture_data('50mV',divisor=1, dual_mode=True, nblocks=1000)"
   ]
  },
  {
   "cell_type": "code",
   "execution_count": 7,
   "metadata": {},
   "outputs": [
    {
     "name": "stdout",
     "output_type": "stream",
     "text": [
      "Mon Feb 22 15:20:57 2021 1614036057.9803557 2459268.4728932925 0.36758801221325654\n"
     ]
    }
   ],
   "source": [
    "print(local_now, ut_now, julian_now, lst_julian)\n",
    "# Mon Feb 22 15:20:57, 2021 1614036057.9803557, 2459268.4728932925, 0.36758801221325654"
   ]
  },
  {
   "cell_type": "code",
   "execution_count": 8,
   "metadata": {},
   "outputs": [],
   "source": [
    "#np.savez('olivia_cold_data.npz', cold_data_)"
   ]
  },
  {
   "cell_type": "code",
   "execution_count": 3,
   "metadata": {},
   "outputs": [],
   "source": [
    "#data_1000 = ugradio.pico.capture_data('50mV',divisor=1, dual_mode=True, nblocks=1000)"
   ]
  },
  {
   "cell_type": "code",
   "execution_count": 6,
   "metadata": {},
   "outputs": [],
   "source": [
    "#np.savez('data_1000.npz',data_1000)"
   ]
  },
  {
   "cell_type": "code",
   "execution_count": 6,
   "metadata": {},
   "outputs": [],
   "source": [
    "data_1000 = np.load('../Data/data_1000.npz')['arr_0'][0][0]"
   ]
  },
  {
   "cell_type": "code",
   "execution_count": 8,
   "metadata": {},
   "outputs": [
    {
     "data": {
      "text/plain": [
       "[<matplotlib.lines.Line2D at 0x7fa040d2cac8>]"
      ]
     },
     "execution_count": 8,
     "metadata": {},
     "output_type": "execute_result"
    },
    {
     "data": {
      "image/png": "[encoded data removed]",
      "text/plain": [
       "<Figure size 432x288 with 1 Axes>"
      ]
     },
     "metadata": {
      "needs_background": "light"
     },
     "output_type": "display_data"
    }
   ],
   "source": [
    "plt.plot(data_1000)"
   ]
  },
  {
   "cell_type": "code",
   "execution_count": 13,
   "metadata": {},
   "outputs": [],
   "source": [
    "olivia_cold_data = np.load('olivia_cold_data.npz')['arr_0'][0][0]\n",
    "#print(olivia_cold_data)"
   ]
  },
  {
   "cell_type": "code",
   "execution_count": null,
   "metadata": {},
   "outputs": [],
   "source": [
    "#cal_data_1 = np.load('../Data/big_horn_data_1000.npz.zip')\n",
    "cal_data_2 = np.load('../Data/50mV data with rain.npz') #50mV data with rain.npz\n",
    "\n",
    "cold_data = olivia_cold_data['arr_0'][0] - (olivia_cold_data[\"arr_0\"][1]*5/4*1j)\n",
    "cal_data = cal_data_2['arr_0'][0] - (cal_data_2[\"arr_0\"][1]*5/4*1j)\n",
    "\n",
    "# resize blocks\n",
    "cold_data.shape = (-1, 2000)\n",
    "cal_data.shape = (-1, 2000)"
   ]
  }
 ],
 "metadata": {
  "kernelspec": {
   "display_name": "Python 3",
   "language": "python",
   "name": "python3"
  },
  "language_info": {
   "codemirror_mode": {
    "name": "ipython",
    "version": 3
   },
   "file_extension": ".py",
   "mimetype": "text/x-python",
   "name": "python",
   "nbconvert_exporter": "python",
   "pygments_lexer": "ipython3",
   "version": "3.6.12"
  }
 },
 "nbformat": 4,
 "nbformat_minor": 4
}
